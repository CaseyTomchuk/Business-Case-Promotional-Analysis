{
  "nbformat": 4,
  "nbformat_minor": 0,
  "metadata": {
    "colab": {
      "provenance": [],
      "authorship_tag": "ABX9TyPwnEWyIHB7qdlBsWxKpQ19",
      "include_colab_link": true
    },
    "kernelspec": {
      "name": "python3",
      "display_name": "Python 3"
    },
    "language_info": {
      "name": "python"
    }
  },
  "cells": [
    {
      "cell_type": "markdown",
      "metadata": {
        "id": "view-in-github",
        "colab_type": "text"
      },
      "source": [
        "<a href=\"https://colab.research.google.com/github/CaseyTomchuk/Business-Case-Promotional-Analysis/blob/main/ISM_4641_W4_Business_Case_Promotional_Analysis.ipynb\" target=\"_parent\"><img src=\"https://colab.research.google.com/assets/colab-badge.svg\" alt=\"Open In Colab\"/></a>"
      ]
    },
    {
      "cell_type": "markdown",
      "source": [
        "# Business Case: TechTime Gadgets Promotional Analysis\n",
        "The Story:\n",
        "TechTime Gadgets is an innovative online retailer specializing in the latest electronic gadgets. In an effort to boost sales and refine its promotional strategies, the management has decided to analyze both current pricing structures and sales performance. They need a flexible, modular Python program that not only calculates discounted prices and aggregates sales data but also generates a timestamped report and computes the Return on Investment (ROI) from recent promotions.\n",
        "\n",
        "## What needs to be done\n",
        "\n",
        "**Calculate Discounted Prices**:\n",
        "Create a function that calculates the final price of a product after applying a discount percentage. This function should have default arguments where appropriate.\n",
        "\n",
        "**Aggregate Sales Data and Generate a Report**:\n",
        "Develop a function that accepts a variable number of sales figures using *args and additional promotional metrics (like “Total Orders”, “New Customers”, etc.) via **kwargs. This function should:\n",
        "\n",
        "**Sum the provided sales figures**.\n",
        "Incorporate the additional metrics into a formatted report.\n",
        "Include a timestamp in the report using Python’s datetime module.\n",
        "Compute ROI from Promotional Data:\n",
        "Create a separate custom module named sales_tools.py that contains a function calculate_roi(initial_investment, final_value) which computes the ROI using the formula:\n",
        "\n",
        "\n",
        "\n",
        "Import and use this module in your main script to compute the ROI based on provided promotional data.\n",
        "\n",
        "**Main Function Integration**:\n",
        "Write a main() function that ties all of these elements together. This function should:\n",
        "\n",
        "* Call your discounted price function for a sample product.\n",
        "\n",
        "* Use your report generation function to display the aggregated sales and promotional metrics.\n",
        "\n",
        "* Call the ROI function from your custom module to compute and display the ROI.\n",
        "\n",
        "* Print the complete, timestamped report to the console.\n",
        "\n",
        "_\n",
        "\n",
        "**Product Pricing and Discount Data**:\n",
        "\n",
        "- Price: $799.99\n",
        "\n",
        "- Discount Percentage: 10%\n",
        "\n",
        "- Sales Figures:\n",
        "\n",
        "- Sales over the past week (in dollars): 1500.0, 2300.5, 1890.75, 2120.0\n",
        "\n",
        "_\n",
        "\n",
        "**Promotional Metrics** (as keyword arguments):\n",
        "\n",
        "Total_Orders: 125\n",
        "\n",
        "New_Customers: 30\n",
        "\n",
        "Conversion_Rate: “5%”\n",
        "\n",
        "Promotional Investment Data for ROI Calculation:\n",
        "\n",
        "\n",
        "Initial Investment: $5000\n",
        "\n",
        "Final Value (Revenue from Promotion): $8500"
      ],
      "metadata": {
        "id": "-OCqZZnxypR7"
      }
    },
    {
      "cell_type": "code",
      "source": [
        "%%writefile \"/content/discount.py\"\n",
        "\n",
        "def calculate_discounted_price(price, discount_percentage=0.10):\n",
        "  discounted_price = price - (price*discount_percentage)\n",
        "  return discounted_price"
      ],
      "metadata": {
        "colab": {
          "base_uri": "https://localhost:8080/"
        },
        "id": "dsfrvBuozMFJ",
        "outputId": "a5cd69f7-74f8-428c-d354-2140499b6938"
      },
      "execution_count": 58,
      "outputs": [
        {
          "output_type": "stream",
          "name": "stdout",
          "text": [
            "Overwriting /content/discount.py\n"
          ]
        }
      ]
    },
    {
      "cell_type": "code",
      "source": [
        "%%writefile \"/content/report.py\"\n",
        "from datetime import datetime\n",
        "\n",
        "def generate_sales_report(*sales, **metrics): # accepts a variable number of arguments\n",
        "    total_sales = sum(sales)\n",
        "\n",
        "    print(\"Report\")\n",
        "    print(datetime.now().strftime(\"%Y-%m-%d %I:%M %P\"))\n",
        "    print((f\"Total Sales: ${total_sales:,.2f}\"))\n",
        "\n",
        "    # this step is necessary because we could take a number of metrics\n",
        "    for key, value in metrics.items():\n",
        "        print((f\"{key}: {value}\"))\n",
        ""
      ],
      "metadata": {
        "colab": {
          "base_uri": "https://localhost:8080/"
        },
        "id": "2K04wmbbwuMJ",
        "outputId": "37ab958b-9f79-4f3f-c66d-92f25ce46215"
      },
      "execution_count": 70,
      "outputs": [
        {
          "output_type": "stream",
          "name": "stdout",
          "text": [
            "Overwriting /content/report.py\n"
          ]
        }
      ]
    },
    {
      "cell_type": "code",
      "source": [
        "%%writefile \"/content/roi.py\"\n",
        "\n",
        "def calculate_roi(initial_investment, final_value):\n",
        "  investment_return = ((final_value - initial_investment)/ initial_investment) * 100\n",
        "  print(investment_return)\n",
        "\n"
      ],
      "metadata": {
        "colab": {
          "base_uri": "https://localhost:8080/"
        },
        "id": "6rHkJP2a1X0h",
        "outputId": "9191c4bb-19c6-47a1-bf4e-a3660064fc4c"
      },
      "execution_count": 76,
      "outputs": [
        {
          "output_type": "stream",
          "name": "stdout",
          "text": [
            "Overwriting /content/roi.py\n"
          ]
        }
      ]
    },
    {
      "cell_type": "code",
      "source": [
        "import discount\n",
        "import report\n",
        "import roi\n",
        "import importlib\n",
        "\n",
        "product_price = 799.99\n",
        "sales = [1500.0, 2300.5, 1890.75, 2120.0]\n",
        "#Total_Orders: 125\n",
        "  #new_Customers: 30,\n",
        "  #conversion_Rate: 0.05\n",
        "initial_invest = 5000\n",
        "fv = 8500\n",
        "\n",
        "def main():\n",
        "  print(\"Discounted Price:\")\n",
        "  print(discount.calculate_discounted_price(product_price)) #module 1\n",
        "\n",
        "  print(\"\\nReturn on investment\")\n",
        "  roi.calculate_roi(initial_invest, fv)\n",
        "\n",
        "  print(\"\\n\")\n",
        "  report.generate_sales_report(*sales, total_orders = 125, new_customers = 30, conversion_rate = 0.05) # module 2\n",
        "\n",
        "main()"
      ],
      "metadata": {
        "colab": {
          "base_uri": "https://localhost:8080/"
        },
        "id": "RwuAwGVFvvCa",
        "outputId": "cd8b9cd8-4a91-477d-ee78-9223efed4147"
      },
      "execution_count": 85,
      "outputs": [
        {
          "output_type": "stream",
          "name": "stdout",
          "text": [
            "Discounted Price:\n",
            "719.991\n",
            "\n",
            "Return on investment\n",
            "70.0\n",
            "\n",
            "\n",
            "Report\n",
            "2025-09-22 12:50 am\n",
            "Total Sales: $7,811.25\n",
            "total_orders: 125\n",
            "new_customers: 30\n",
            "conversion_rate: 0.05\n"
          ]
        }
      ]
    }
  ]
}